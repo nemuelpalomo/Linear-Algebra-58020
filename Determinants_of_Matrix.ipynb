{
  "nbformat": 4,
  "nbformat_minor": 0,
  "metadata": {
    "colab": {
      "name": "Determinants of Matrix.ipynb",
      "provenance": [],
      "collapsed_sections": [],
      "authorship_tag": "ABX9TyNuneCNOLbUj4U7GsWOIjqF",
      "include_colab_link": true
    },
    "kernelspec": {
      "name": "python3",
      "display_name": "Python 3"
    },
    "language_info": {
      "name": "python"
    }
  },
  "cells": [
    {
      "cell_type": "markdown",
      "metadata": {
        "id": "view-in-github",
        "colab_type": "text"
      },
      "source": [
        "<a href=\"https://colab.research.google.com/github/nemuelpalomo/Linear-Algebra-58020/blob/main/Determinants_of_Matrix.ipynb\" target=\"_parent\"><img src=\"https://colab.research.google.com/assets/colab-badge.svg\" alt=\"Open In Colab\"/></a>"
      ]
    },
    {
      "cell_type": "code",
      "metadata": {
        "colab": {
          "base_uri": "https://localhost:8080/"
        },
        "id": "xHcTd6pPScRA",
        "outputId": "c62b1c6a-9222-4088-8bed-bf5e5777dba8"
      },
      "source": [
        "import numpy as np\n",
        "\n",
        "A = np.array([[1,2,-1],[4,6,-2],[-1,3,3]])\n",
        "\n",
        "print(A) #Matrix A\n",
        "print(\"\")\n",
        "print(\"\")\n",
        "print(\"\")\n",
        "print(np.linalg.det(A)) #Determinant of matrix A\n",
        "print(\"\")\n",
        "print(\"\")\n",
        "print(\"\")\n",
        "print(round(np.linalg.det(A))) #Round up to the nearest integer\n",
        "\n"
      ],
      "execution_count": 5,
      "outputs": [
        {
          "output_type": "stream",
          "name": "stdout",
          "text": [
            "[[ 1  2 -1]\n",
            " [ 4  6 -2]\n",
            " [-1  3  3]]\n",
            "\n",
            "\n",
            "\n",
            "-13.999999999999996\n",
            "\n",
            "\n",
            "\n",
            "-14\n"
          ]
        }
      ]
    }
  ]
}