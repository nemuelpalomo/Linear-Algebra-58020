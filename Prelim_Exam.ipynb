{
  "nbformat": 4,
  "nbformat_minor": 0,
  "metadata": {
    "colab": {
      "name": "Prelim Exam.ipynb",
      "provenance": [],
      "authorship_tag": "ABX9TyPtQ5rmY83kWfCcOwQg+Rtb",
      "include_colab_link": true
    },
    "kernelspec": {
      "name": "python3",
      "display_name": "Python 3"
    },
    "language_info": {
      "name": "python"
    }
  },
  "cells": [
    {
      "cell_type": "markdown",
      "metadata": {
        "id": "view-in-github",
        "colab_type": "text"
      },
      "source": [
        "<a href=\"https://colab.research.google.com/github/nemuelpalomo/Linear-Algebra-58020/blob/main/Prelim_Exam.ipynb\" target=\"_parent\"><img src=\"https://colab.research.google.com/assets/colab-badge.svg\" alt=\"Open In Colab\"/></a>"
      ]
    },
    {
      "cell_type": "markdown",
      "metadata": {
        "id": "bfKAKfbajJVk"
      },
      "source": [
        "##Prelim Exam\n"
      ]
    },
    {
      "cell_type": "markdown",
      "metadata": {
        "id": "QAClIekfkjBW"
      },
      "source": [
        "#Question 1\n"
      ]
    },
    {
      "cell_type": "code",
      "metadata": {
        "colab": {
          "base_uri": "https://localhost:8080/"
        },
        "id": "twT96M09iqZJ",
        "outputId": "0a2c7a26-7e02-48fa-8d31-7059c2ab62d9"
      },
      "source": [
        "import numpy as np\n",
        "\n",
        "C = np.eye(4)\n",
        "\n",
        "print(C)"
      ],
      "execution_count": 2,
      "outputs": [
        {
          "output_type": "stream",
          "name": "stdout",
          "text": [
            "[[1. 0. 0. 0.]\n",
            " [0. 1. 0. 0.]\n",
            " [0. 0. 1. 0.]\n",
            " [0. 0. 0. 1.]]\n"
          ]
        }
      ]
    },
    {
      "cell_type": "markdown",
      "metadata": {
        "id": "J3hcIb0clCW-"
      },
      "source": [
        "#Question 2\n"
      ]
    },
    {
      "cell_type": "code",
      "metadata": {
        "colab": {
          "base_uri": "https://localhost:8080/"
        },
        "id": "hAcBRWRMkiLe",
        "outputId": "803423ec-8604-4fba-f6e3-c6006256244d"
      },
      "source": [
        "answer = 2*C\n",
        "\n",
        "print(answer)"
      ],
      "execution_count": 3,
      "outputs": [
        {
          "output_type": "stream",
          "name": "stdout",
          "text": [
            "[[2. 0. 0. 0.]\n",
            " [0. 2. 0. 0.]\n",
            " [0. 0. 2. 0.]\n",
            " [0. 0. 0. 2.]]\n"
          ]
        }
      ]
    },
    {
      "cell_type": "markdown",
      "metadata": {
        "id": "a1EzF9B4mdgq"
      },
      "source": [
        "##Question 3\n"
      ]
    },
    {
      "cell_type": "markdown",
      "metadata": {
        "id": "biulLpgApRuh"
      },
      "source": [
        "###Matrice A\n"
      ]
    },
    {
      "cell_type": "code",
      "metadata": {
        "id": "_WGnEyCDpbjs"
      },
      "source": [
        "A = np.array([2,7,4])"
      ],
      "execution_count": null,
      "outputs": []
    },
    {
      "cell_type": "markdown",
      "metadata": {
        "id": "tOew4EuIpcsk"
      },
      "source": [
        "###Matrice B"
      ]
    },
    {
      "cell_type": "code",
      "metadata": {
        "id": "lG_Cn_wCpgSv"
      },
      "source": [
        "B = np.array([3,9,8])"
      ],
      "execution_count": null,
      "outputs": []
    },
    {
      "cell_type": "markdown",
      "metadata": {
        "id": "UOt1jc0dpotT"
      },
      "source": [
        "###Answer"
      ]
    },
    {
      "cell_type": "code",
      "metadata": {
        "colab": {
          "base_uri": "https://localhost:8080/"
        },
        "id": "C1j1W4DFpuT-",
        "outputId": "4c004424-7f6f-4862-9f01-fc54a6e2f001"
      },
      "source": [
        "answer2 = np.cross(A,B)\n",
        "\n",
        "print(answer2)"
      ],
      "execution_count": 5,
      "outputs": [
        {
          "output_type": "stream",
          "name": "stdout",
          "text": [
            "[20 -4 -3]\n"
          ]
        }
      ]
    }
  ]
}