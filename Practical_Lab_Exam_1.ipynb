{
  "nbformat": 4,
  "nbformat_minor": 0,
  "metadata": {
    "colab": {
      "name": "Practical Lab Exam 1.ipynb",
      "provenance": [],
      "collapsed_sections": [],
      "authorship_tag": "ABX9TyO/IUE8XQjf33+xyCVpPjaM",
      "include_colab_link": true
    },
    "kernelspec": {
      "name": "python3",
      "display_name": "Python 3"
    },
    "language_info": {
      "name": "python"
    }
  },
  "cells": [
    {
      "cell_type": "markdown",
      "metadata": {
        "id": "view-in-github",
        "colab_type": "text"
      },
      "source": [
        "<a href=\"https://colab.research.google.com/github/nemuelpalomo/Linear-Algebra-58020/blob/main/Practical_Lab_Exam_1.ipynb\" target=\"_parent\"><img src=\"https://colab.research.google.com/assets/colab-badge.svg\" alt=\"Open In Colab\"/></a>"
      ]
    },
    {
      "cell_type": "markdown",
      "metadata": {
        "id": "gnfb06-jBmCk"
      },
      "source": [
        "##***Consider*** ***Four*** ***Matrices***"
      ]
    },
    {
      "cell_type": "markdown",
      "metadata": {
        "id": "-Lv0kamUEBOY"
      },
      "source": [
        "#**Problem** **1**"
      ]
    },
    {
      "cell_type": "code",
      "metadata": {
        "colab": {
          "base_uri": "https://localhost:8080/"
        },
        "id": "9qHGCld8-2fj",
        "outputId": "65e0757f-2443-444d-83d7-f8ee7a1eb5ef"
      },
      "source": [
        "import numpy as np\n",
        "\n",
        "w = np.array([[1,-3,0],[2,-2,0],[3,1,0]])\n",
        "x = np.array([[3,2,1],[-1,2,3],[2,1,-1]])\n",
        "y = np.array([[1,2,0],[0,-1,2],[0,0,0]])\n",
        "z = np.array([[0,1,0],[2,3,0],[0,0,0]])\n",
        "\n",
        "print(\"This is the W matrix\")\n",
        "print(w)\n",
        "print(\"----\")\n",
        "print(\"This is the X matrix\")\n",
        "print(x)\n",
        "print(\"----\")\n",
        "print(\"This is the Y matrix\")\n",
        "print(y)\n",
        "print(\"----\")\n",
        "print(\"This is the Z matrix\")\n",
        "print(z)"
      ],
      "execution_count": 36,
      "outputs": [
        {
          "output_type": "stream",
          "name": "stdout",
          "text": [
            "This is the W matrix\n",
            "[[ 1 -3  0]\n",
            " [ 2 -2  0]\n",
            " [ 3  1  0]]\n",
            "----\n",
            "This is the X matrix\n",
            "[[ 3  2  1]\n",
            " [-1  2  3]\n",
            " [ 2  1 -1]]\n",
            "----\n",
            "This is the Y matrix\n",
            "[[ 1  2  0]\n",
            " [ 0 -1  2]\n",
            " [ 0  0  0]]\n",
            "----\n",
            "This is the Z matrix\n",
            "[[0 1 0]\n",
            " [2 3 0]\n",
            " [0 0 0]]\n"
          ]
        }
      ]
    },
    {
      "cell_type": "markdown",
      "metadata": {
        "id": "jFw-BWCaB4wd"
      },
      "source": [
        "#A. WY\n"
      ]
    },
    {
      "cell_type": "code",
      "metadata": {
        "colab": {
          "base_uri": "https://localhost:8080/"
        },
        "id": "0kAhcWal_B2M",
        "outputId": "2666c93e-f781-4b83-fbbc-f7e53924f855"
      },
      "source": [
        "answer = np.dot(w,y)\n",
        "\n",
        "print(answer)"
      ],
      "execution_count": 49,
      "outputs": [
        {
          "output_type": "stream",
          "name": "stdout",
          "text": [
            "[[ 1  5 -6]\n",
            " [ 2  6 -4]\n",
            " [ 3  5  2]]\n"
          ]
        }
      ]
    },
    {
      "cell_type": "markdown",
      "metadata": {
        "id": "nZAjVcuQCgAH"
      },
      "source": [
        "#B. Z+Z"
      ]
    },
    {
      "cell_type": "code",
      "metadata": {
        "colab": {
          "base_uri": "https://localhost:8080/"
        },
        "id": "Rp2WbZNACnkj",
        "outputId": "9162ba8a-c56f-401d-d2cd-c40c59f66bda"
      },
      "source": [
        "answer2 = np.add(z,z)\n",
        "\n",
        "print(answer2)\n"
      ],
      "execution_count": 50,
      "outputs": [
        {
          "output_type": "stream",
          "name": "stdout",
          "text": [
            "[[0 2 0]\n",
            " [4 6 0]\n",
            " [0 0 0]]\n"
          ]
        }
      ]
    },
    {
      "cell_type": "markdown",
      "metadata": {
        "id": "npdsAzV6DQof"
      },
      "source": [
        "#C. 3X"
      ]
    },
    {
      "cell_type": "code",
      "metadata": {
        "colab": {
          "base_uri": "https://localhost:8080/"
        },
        "id": "JH80Id2XDWcS",
        "outputId": "8825009f-fa87-427d-b7c3-2af258d93893"
      },
      "source": [
        "answer3 = np.dot(3,x)\n",
        "\n",
        "print(answer3)"
      ],
      "execution_count": 51,
      "outputs": [
        {
          "output_type": "stream",
          "name": "stdout",
          "text": [
            "[[ 9  6  3]\n",
            " [-3  6  9]\n",
            " [ 6  3 -3]]\n"
          ]
        }
      ]
    },
    {
      "cell_type": "markdown",
      "metadata": {
        "id": "NWSDdDaXEeGN"
      },
      "source": [
        "#**Problem** **2**"
      ]
    },
    {
      "cell_type": "markdown",
      "metadata": {
        "id": "x0W4YGD6EiXv"
      },
      "source": [
        "#A. The Product (YW)^2 is not defined"
      ]
    },
    {
      "cell_type": "code",
      "metadata": {
        "colab": {
          "base_uri": "https://localhost:8080/"
        },
        "id": "b33lW3MtEg2G",
        "outputId": "a0076d91-79ef-4634-dca2-41f0ac691e9d"
      },
      "source": [
        "#Solution\n",
        "\n",
        "yw = np.cross(y,w)\n",
        "\n",
        "answer4 = 2*yw\n",
        "\n",
        "print(answer4)\n",
        "\n",
        "#The answer is FALSE\n",
        "print(\"FALSE\")"
      ],
      "execution_count": 40,
      "outputs": [
        {
          "output_type": "stream",
          "name": "stdout",
          "text": [
            "[[  0   0 -10]\n",
            " [  8   8   4]\n",
            " [  0   0   0]]\n",
            "FALSE\n"
          ]
        }
      ]
    },
    {
      "cell_type": "markdown",
      "metadata": {
        "id": "nsE3a39qJZct"
      },
      "source": [
        "#B. WY - X =  ![lab 1-2.PNG.png](data:image/png;base64,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)\n"
      ]
    },
    {
      "cell_type": "code",
      "metadata": {
        "colab": {
          "base_uri": "https://localhost:8080/"
        },
        "id": "fvQpOVsmJYId",
        "outputId": "16653d9f-d26b-404f-ef40-a11ce1621566"
      },
      "source": [
        "wy = np.dot(w,y)\n",
        "\n",
        "final = np.subtract(wy,x)\n",
        "\n",
        "print(final)\n",
        "\n",
        "#The answer is FALSE\n",
        "print(\"FALSE\")"
      ],
      "execution_count": 41,
      "outputs": [
        {
          "output_type": "stream",
          "name": "stdout",
          "text": [
            "[[-2  3 -7]\n",
            " [ 3  4 -7]\n",
            " [ 1  4  3]]\n",
            "FALSE\n"
          ]
        }
      ]
    },
    {
      "cell_type": "markdown",
      "metadata": {
        "id": "iJCQ2KV-Kud9"
      },
      "source": [
        "#C. YW - Z^2 = ![lab 1-3.PNG.png](data:image/png;base64,iVBORw0KGgoAAAANSUhEUgAAAFwAAABMCAYAAADgOdDDAAAAAXNSR0IArs4c6QAAAARnQU1BAACxjwv8YQUAAAAJcEhZcwAADsMAAA7DAcdvqGQAAAToSURBVHhe7ZytTjQxFIaRCAQkCASCBINAIhBIEhBIEgwCS8IVcAcoJCQIBAKBJFwBN4BDEIJAICBBIBH98kzm3QyT7k9/OOw32ydpgJndlj7TOT2bznbKFUwpwo0pwo0pwo0pwo0JEv719eWurq7c/v6+W11ddbOzs/WZ7kCf6Nvu7q67vLx0n5+f9Zk8jCz89vbWLS4uuqmpqR+la7T7Nz8/725ubuqz6Qw1xqg+Ojrq/QPr6+vu4uLCPT09Vee6Bn2ib/RxY2Oj1++Dg4Mso32gcBpfWVmpGpyennanp6f1mcnh7OzMzczMVA64w9/f3+szcQwUrpFNTHt8fKyPTh4vLy9ubW2tckFsT6GvcGK2RvYkyxZIZ0LFSUpM9wonlGiCnMQw0g+yFpwwkcaGFq9wUj8qZoIs/GRzc7NyQ2yPwSucPJtKmakLP9Fg3N7ero+E4RXOJEmlpEe5eHh4qOr0lbm5ufpVebm/v3d7e3u9dpaXl93JyUl9Ng5iOXUtLS3VR8LwCtfkkDPPpvPUubW1VXW6Wc7Pz+tX5ePu7q5qj4t5fHxctYNwjh0eHtavCuf7+7uqg1QxBq9wKqTkRMLpuAWIpnBniY+Pj5705vFQUvx0Urja8o1k7qbU/yPFT6eF+9rSOWJ7LCl+zIU3Y/j19bV7fn6uX5EPtUXsbkN7+j9iSfFjLtxXfGJSkFTiNXG7ibKlzguH5mhGBCOciY22+D0E6tKdotLMdpQOKhWkNFPEiRDuQ+lbqADfHdPM57mgSFZWQqENLiy/p6SGqi+GPxeOGNpKGXEh6EKl5P4pfv5ceI6YGgIjm/ZSJusUP38uXHE1NIbHkCOcQIofM+HEUkaxJjAyE8XXVAE+iOdcTLWnBQR+tjOXUFL8mAlndCFcWQlFk9hv0LygFEQjPgeqMwYz4V2iCDemCDemCDemCDemCDemCDemCDemCDemCDemCDemCDemCDemCDemCDemCDemCDfmvxHue3SBZbBRH6xkxZ3Xa9WIenKt4oSQ4sdUuNYVtbapFXQEDpOu51ckmSU0if+NNdFB0CYlBjPh/VbM9TQrI3cQSG6PZj1iQUl57CEUtRmDmXCNbt+KuUJMzGq66iXcWJHix0w49SHHh55NiZFWhHsY9nQVoYLzodL0mBwl9VmTENRmDCbCEUl9w4S3Y/Qw9L4yabYYVXjIA5a6a8hULEc3pPgZK+GjhhQE/0XsFil+TIQD9eWYNJuyLR4A9ZHix0z4oNSPc4SGYYyDbEjx432X9gfJ+cVYPhlSZ3ti1AefYRPfuMjWF2PZZSMGr3BtSpPzq98I00dxQgjimx/tfSO/iV6LdN7bLinfaAjhV776zSYsVJp7cwM+fiNO4vnJ38Nkg+J8vzJKSMqBNjdgV4kYvMK1Lwh7PhV+wi4SuIndR8YrnM202ISFimP3Beki7ASEEzZ/eHt7q4+G4RUOqpwJlLg16by+vvYGIREglr7CQRvVMFFNsnRka0u9nZ2d+mgcA4UTWrT3FbdRypX9X+FO18heWFio5KcwUDiwmZayFgqzMzM1I56ctGvQJ/pGHzVBUhjZqbJhqHDRvNLN0jXa/ct9ZwcZY7STtTDKSfxjP22NM/SJvtFHUr/YbKQf3RuiY04RbkwRbkwRbkwRbkwRbkwRbkwRbkwRbopz/wBq3QJ2nbHO8wAAAABJRU5ErkJggg==)"
      ]
    },
    {
      "cell_type": "code",
      "metadata": {
        "colab": {
          "base_uri": "https://localhost:8080/"
        },
        "id": "9SGF4oFULwzP",
        "outputId": "1370848a-8010-4897-db22-78864a6a9370"
      },
      "source": [
        "c1 = np.dot(y,w)\n",
        "\n",
        "c2 = 2*z\n",
        "\n",
        "c3 = np.subtract(c1,c2)\n",
        "\n",
        "print(c3)\n",
        "\n",
        "#The answer is TRUE\n",
        "\n",
        "print('TRUE')"
      ],
      "execution_count": 52,
      "outputs": [
        {
          "output_type": "stream",
          "name": "stdout",
          "text": [
            "[[ 5 -9  0]\n",
            " [ 0 -2  0]\n",
            " [ 0  0  0]]\n",
            "TRUE\n"
          ]
        }
      ]
    }
  ]
}