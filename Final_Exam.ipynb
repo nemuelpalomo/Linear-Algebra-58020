{
  "nbformat": 4,
  "nbformat_minor": 0,
  "metadata": {
    "colab": {
      "name": "Final Exam.ipynb",
      "provenance": [],
      "authorship_tag": "ABX9TyPn71COKFYrSuM4JDSEtGKM",
      "include_colab_link": true
    },
    "kernelspec": {
      "name": "python3",
      "display_name": "Python 3"
    },
    "language_info": {
      "name": "python"
    }
  },
  "cells": [
    {
      "cell_type": "markdown",
      "metadata": {
        "id": "view-in-github",
        "colab_type": "text"
      },
      "source": [
        "<a href=\"https://colab.research.google.com/github/nemuelpalomo/Linear-Algebra-58020/blob/main/Final_Exam.ipynb\" target=\"_parent\"><img src=\"https://colab.research.google.com/assets/colab-badge.svg\" alt=\"Open In Colab\"/></a>"
      ]
    },
    {
      "cell_type": "markdown",
      "source": [
        "# Problem 1. Student A, Student B, and Student C have a total of Php 89 cash in their banks. Student A has 6 less than Student C. Student B has 3 times what Student C has. How much does each student have? (30 points)"
      ],
      "metadata": {
        "id": "3NMzQCpeIuw2"
      }
    },
    {
      "cell_type": "code",
      "source": [
        "studentC = 19\n",
        "\n",
        "studentA = (studentC - 6)\n",
        "studentB = (studentC * 3)\n",
        "\n",
        "print(\"Student A has \", studentA)\n",
        "print(\"Student B has \", studentB)\n",
        "print(\"Student C has \", studentC)\n"
      ],
      "metadata": {
        "colab": {
          "base_uri": "https://localhost:8080/"
        },
        "id": "BQvo2RFnJMFy",
        "outputId": "122f80d3-6404-4043-821a-db0dd1ded337"
      },
      "execution_count": 44,
      "outputs": [
        {
          "output_type": "stream",
          "name": "stdout",
          "text": [
            "Student A has  13\n",
            "Student B has  57\n",
            "Student C has  19\n"
          ]
        }
      ]
    },
    {
      "cell_type": "markdown",
      "source": [
        "# Problem 2. Solve each system: (30 points)"
      ],
      "metadata": {
        "id": "IXDFZfl9Q-Ru"
      }
    },
    {
      "cell_type": "code",
      "source": [
        "import numpy as np\n",
        "from scipy import linalg\n",
        "\n",
        "A = np.array([[3,-1,1], [9,-3,3], [-12,4,-4]])\n",
        "print(\"Matrix A:\\n\", A)\n",
        "\n",
        "#The matrix is singular, we cannot somehow inverse it but we can use pinv to see the output and the results.\n",
        "\n",
        "inv_A = np.linalg.pinv(A)\n",
        "print(\"\\nInverse of Matrix A:\\n\", inv_A)\n",
        "\n",
        "B = np.array([[5],[10],[-20]])\n",
        "print(\"\\nMatrix A:\\n\", A)\n",
        "\n",
        "X = np.dot(inv_A, B)\n",
        "print(\"\\nDot:\\n\", X)\n",
        "\n",
        "C = np.dot(A, X)\n",
        "print(\"\\nChecking:\\n\", C)"
      ],
      "metadata": {
        "colab": {
          "base_uri": "https://localhost:8080/"
        },
        "id": "_zFHTTO_P2pG",
        "outputId": "daf46973-d9f9-4583-f3a0-9f546fccd0b1"
      },
      "execution_count": 55,
      "outputs": [
        {
          "output_type": "stream",
          "name": "stdout",
          "text": [
            "Matrix A:\n",
            " [[  3  -1   1]\n",
            " [  9  -3   3]\n",
            " [-12   4  -4]]\n",
            "\n",
            "Inverse of Matrix A:\n",
            " [[ 0.01048951  0.03146853 -0.04195804]\n",
            " [-0.0034965  -0.01048951  0.01398601]\n",
            " [ 0.0034965   0.01048951 -0.01398601]]\n",
            "\n",
            "Matrix A:\n",
            " [[  3  -1   1]\n",
            " [  9  -3   3]\n",
            " [-12   4  -4]]\n",
            "\n",
            "Dot:\n",
            " [[ 1.20629371]\n",
            " [-0.4020979 ]\n",
            " [ 0.4020979 ]]\n",
            "\n",
            "Checking:\n",
            " [[  4.42307692]\n",
            " [ 13.26923077]\n",
            " [-17.69230769]]\n"
          ]
        }
      ]
    },
    {
      "cell_type": "markdown",
      "source": [
        "# Problem 3. Consider the matrix. (40 points)"
      ],
      "metadata": {
        "id": "U2bq6bjjRC27"
      }
    },
    {
      "cell_type": "code",
      "source": [
        "import numpy as np\n",
        "from numpy.linalg import eig\n",
        "\n",
        "A = np.array([[8,5,-6],[-12,-9,12],[-3,-3,5]])\n",
        "print(\"The Matrix:\\n\")\n",
        "print(A, \"\\n\")\n",
        "b,c = np.linalg.eig(A)\n",
        "\n",
        "print(\"The eigenvalues:\\n\",b,\"\\n\")\n",
        "print(\"The eigenvectors:\\n\",c.round())\n"
      ],
      "metadata": {
        "colab": {
          "base_uri": "https://localhost:8080/"
        },
        "id": "ylXtSI9YOMPv",
        "outputId": "c0a47338-1e01-436e-d423-f779ce8c22a4"
      },
      "execution_count": 28,
      "outputs": [
        {
          "output_type": "stream",
          "name": "stdout",
          "text": [
            "The Matrix:\n",
            "\n",
            "[[  8   5  -6]\n",
            " [-12  -9  12]\n",
            " [ -3  -3   5]] \n",
            "\n",
            "The eigenvalues:\n",
            " [-1.  3.  2.] \n",
            "\n",
            "The eigenvectors:\n",
            " [[ 0. -1.  1.]\n",
            " [-1.  1.  0.]\n",
            " [-0. -0.  1.]]\n"
          ]
        }
      ]
    }
  ]
}