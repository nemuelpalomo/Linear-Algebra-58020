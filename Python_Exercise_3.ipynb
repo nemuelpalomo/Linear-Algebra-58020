{
  "nbformat": 4,
  "nbformat_minor": 0,
  "metadata": {
    "colab": {
      "name": "Python Exercise 3.ipynb",
      "provenance": [],
      "authorship_tag": "ABX9TyOBwxpPA8E97yE+mnk+Yqau",
      "include_colab_link": true
    },
    "kernelspec": {
      "name": "python3",
      "display_name": "Python 3"
    },
    "language_info": {
      "name": "python"
    }
  },
  "cells": [
    {
      "cell_type": "markdown",
      "metadata": {
        "id": "view-in-github",
        "colab_type": "text"
      },
      "source": [
        "<a href=\"https://colab.research.google.com/github/nemuelpalomo/Linear-Algebra-58020/blob/main/Python_Exercise_3.ipynb\" target=\"_parent\"><img src=\"https://colab.research.google.com/assets/colab-badge.svg\" alt=\"Open In Colab\"/></a>"
      ]
    },
    {
      "cell_type": "code",
      "metadata": {
        "colab": {
          "base_uri": "https://localhost:8080/"
        },
        "id": "-2gPHfduiIRo",
        "outputId": "a8f8ebb1-3908-4de1-8006-ca2e35cba917"
      },
      "source": [
        "import numpy as np\n",
        "\n",
        "#Matrix A\n",
        "\n",
        "A = np.array([[1,1,1],[1,2,2],[1,2,3]]);\n",
        "print(\"\")\n",
        "print(A)\n",
        "\n",
        "inv_A = np.linalg.inv(A)\n",
        "print(\"\")\n",
        "print(inv_A)\n",
        "\n",
        "B = np.array([[5],[6],[8]]);\n",
        "print(\"\")\n",
        "print(B)\n",
        "\n",
        "X = np.dot(inv_A, B)\n",
        "print(\"\")\n",
        "print(X)"
      ],
      "execution_count": 3,
      "outputs": [
        {
          "output_type": "stream",
          "name": "stdout",
          "text": [
            "\n",
            "[[1 1 1]\n",
            " [1 2 2]\n",
            " [1 2 3]]\n",
            "\n",
            "[[ 2. -1.  0.]\n",
            " [-1.  2. -1.]\n",
            " [ 0. -1.  1.]]\n",
            "\n",
            "[[5]\n",
            " [6]\n",
            " [8]]\n",
            "\n",
            "[[ 4.]\n",
            " [-1.]\n",
            " [ 2.]]\n"
          ]
        }
      ]
    }
  ]
}