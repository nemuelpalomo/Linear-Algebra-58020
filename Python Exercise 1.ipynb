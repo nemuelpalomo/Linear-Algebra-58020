{
  "nbformat": 4,
  "nbformat_minor": 0,
  "metadata": {
    "colab": {
      "name": "Python_SuStem.ipynb",
      "provenance": [],
      "collapsed_sections": [],
      "authorship_tag": "ABX9TyNd7mT8yOBFO2x0TxT/whvM",
      "include_colab_link": true
    },
    "kernelspec": {
      "name": "python3",
      "display_name": "Python 3"
    },
    "language_info": {
      "name": "python"
    }
  },
  "cells": [
    {
      "cell_type": "markdown",
      "metadata": {
        "id": "view-in-github",
        "colab_type": "text"
      },
      "source": [
        "<a href=\"https://colab.research.google.com/github/nemuelpalomo/Linear-Algebra-58020/blob/main/Python%20Exercise%201.ipynb\" target=\"_parent\"><img src=\"https://colab.research.google.com/assets/colab-badge.svg\" alt=\"Open In Colab\"/></a>"
      ]
    },
    {
      "cell_type": "markdown",
      "metadata": {
        "id": "pSDLK5wHKTMh"
      },
      "source": [
        "#Matrix and Its Operations"
      ]
    },
    {
      "cell_type": "code",
      "metadata": {
        "id": "aOA9dFI-vQrD",
        "colab": {
          "base_uri": "https://localhost:8080/"
        },
        "outputId": "67c3a70f-12b0-466d-9f87-0fee866e8da2"
      },
      "source": [
        "import numpy as np\n",
        "#This creates a 1x3 matrix.\n",
        "\n",
        "r = np.array([8,8,5])\n",
        "print(r)"
      ],
      "execution_count": 1,
      "outputs": [
        {
          "output_type": "stream",
          "name": "stdout",
          "text": [
            "[8 8 5]\n"
          ]
        }
      ]
    },
    {
      "cell_type": "code",
      "metadata": {
        "colab": {
          "base_uri": "https://localhost:8080/"
        },
        "id": "4vYjeiZdMZY5",
        "outputId": "3ad6fd81-1822-4dcf-990c-37d3baf9e7aa"
      },
      "source": [
        "#Sum of Matrix A and B\n",
        "\n",
        "a = np.array([[-5, 0],[4, 1]])\n",
        "b = np.array([[6, -3],[2, 3]])\n",
        "\n",
        "print(a + b)\n"
      ],
      "execution_count": 2,
      "outputs": [
        {
          "output_type": "stream",
          "name": "stdout",
          "text": [
            "[[ 1 -3]\n",
            " [ 6  4]]\n"
          ]
        }
      ]
    },
    {
      "cell_type": "code",
      "metadata": {
        "colab": {
          "base_uri": "https://localhost:8080/"
        },
        "id": "CTxhByY8OUqT",
        "outputId": "c921ac56-9076-49ba-ede9-088240e9ee6b"
      },
      "source": [
        "#Difference 1 of A and B: A - B\n",
        "\n",
        "a = np.array([[-5, 0],[4, 1]])\n",
        "b = np.array([[6, -3],[2, 3]])\n",
        "\n",
        "print(a - b)"
      ],
      "execution_count": 3,
      "outputs": [
        {
          "output_type": "stream",
          "name": "stdout",
          "text": [
            "[[-11   3]\n",
            " [  2  -2]]\n"
          ]
        }
      ]
    },
    {
      "cell_type": "code",
      "metadata": {
        "colab": {
          "base_uri": "https://localhost:8080/"
        },
        "id": "uwiyAdObOxfQ",
        "outputId": "7174e612-f37b-4f5d-c792-ee25bdaf0e04"
      },
      "source": [
        "#Difference 2 of A and B: B - B\n",
        "\n",
        "b = np.array([[6, -3],[2, 3]])\n",
        "\n",
        "print(b - b)"
      ],
      "execution_count": 4,
      "outputs": [
        {
          "output_type": "stream",
          "name": "stdout",
          "text": [
            "[[0 0]\n",
            " [0 0]]\n"
          ]
        }
      ]
    }
  ]
}