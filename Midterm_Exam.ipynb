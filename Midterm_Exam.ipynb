{
  "nbformat": 4,
  "nbformat_minor": 0,
  "metadata": {
    "colab": {
      "name": "Midterm Exam.ipynb",
      "provenance": [],
      "collapsed_sections": [],
      "authorship_tag": "ABX9TyO13Zd5DuNDSiUQax9TdzG6",
      "include_colab_link": true
    },
    "kernelspec": {
      "name": "python3",
      "display_name": "Python 3"
    },
    "language_info": {
      "name": "python"
    }
  },
  "cells": [
    {
      "cell_type": "markdown",
      "metadata": {
        "id": "view-in-github",
        "colab_type": "text"
      },
      "source": [
        "<a href=\"https://colab.research.google.com/github/nemuelpalomo/Linear-Algebra-58020/blob/main/Midterm_Exam.ipynb\" target=\"_parent\"><img src=\"https://colab.research.google.com/assets/colab-badge.svg\" alt=\"Open In Colab\"/></a>"
      ]
    },
    {
      "cell_type": "code",
      "metadata": {
        "id": "0TTibw7Z5tMg"
      },
      "source": [
        "import numpy as np"
      ],
      "execution_count": 3,
      "outputs": []
    },
    {
      "cell_type": "code",
      "metadata": {
        "colab": {
          "base_uri": "https://localhost:8080/"
        },
        "id": "fjcxQ06I6zxn",
        "outputId": "d33b69eb-956b-46b6-e411-86695e142f54"
      },
      "source": [
        "#Question 1. Create a Python code that displays a square matrix whose length is 5 (10points)\n",
        "\n",
        "A = np.eye(5)\n",
        "\n",
        "print(A)\n"
      ],
      "execution_count": 17,
      "outputs": [
        {
          "output_type": "stream",
          "name": "stdout",
          "text": [
            "[[1. 0. 0. 0. 0.]\n",
            " [0. 1. 0. 0. 0.]\n",
            " [0. 0. 1. 0. 0.]\n",
            " [0. 0. 0. 1. 0.]\n",
            " [0. 0. 0. 0. 1.]]\n"
          ]
        }
      ]
    },
    {
      "cell_type": "code",
      "metadata": {
        "colab": {
          "base_uri": "https://localhost:8080/"
        },
        "id": "hUeDlxs37lV5",
        "outputId": "dd6be9d7-3cd6-4725-bee7-597fda1cd0c0"
      },
      "source": [
        "#Question 2. Create a Python code that displays a square matrix whose elements below the principal diagonal are zero (10points)\n",
        "\n",
        "B = np.array([[1,1,1,1,1],[0,1,1,1,1],[0,0,1,1,1],[0,0,0,1,1],[0,0,0,0,1]])\n",
        "\n",
        "print(B)"
      ],
      "execution_count": 30,
      "outputs": [
        {
          "output_type": "stream",
          "name": "stdout",
          "text": [
            "[[1 1 1 1 1]\n",
            " [0 1 1 1 1]\n",
            " [0 0 1 1 1]\n",
            " [0 0 0 1 1]\n",
            " [0 0 0 0 1]]\n"
          ]
        }
      ]
    },
    {
      "cell_type": "code",
      "metadata": {
        "colab": {
          "base_uri": "https://localhost:8080/"
        },
        "id": "82yrl6iY8c50",
        "outputId": "73a2e5c9-e08d-4c03-bb56-a2c7b3c704f0"
      },
      "source": [
        "#Question 3. Create a Python code that displays a square matrix which is symmetrical (10points)\n",
        "\n",
        "symmetric = np.array([[1, 7, 3],[7, 4, -5],[3,-5, 6]]) #untransposed\n",
        "print(symmetric)\n",
        "print(\"\")\n",
        "symmetric_T = np.transpose(symmetric) #transposed which proves the matrix is symmetrical\n",
        "print(symmetric_T)"
      ],
      "execution_count": 36,
      "outputs": [
        {
          "output_type": "stream",
          "name": "stdout",
          "text": [
            "[[ 1  7  3]\n",
            " [ 7  4 -5]\n",
            " [ 3 -5  6]]\n",
            "\n",
            "[[ 1  7  3]\n",
            " [ 7  4 -5]\n",
            " [ 3 -5  6]]\n"
          ]
        }
      ]
    },
    {
      "cell_type": "code",
      "metadata": {
        "colab": {
          "base_uri": "https://localhost:8080/"
        },
        "id": "nLsl03me_aaf",
        "outputId": "a015bd10-9a8f-43d7-9e28-e517f084f90c"
      },
      "source": [
        "#Question 4. What is the inverse of matrix C? Show your solution by python coding. (20 points)\n",
        "\n",
        "C = np.array([[1,2,3],[2,3,3],[3,4,-2]])\n",
        "print(C)\n",
        "print(\"\")\n",
        "\n",
        "inv_C = np.linalg.inv(C)\n",
        "\n",
        "print(inv_C) #Inverse of matrix C"
      ],
      "execution_count": 20,
      "outputs": [
        {
          "output_type": "stream",
          "name": "stdout",
          "text": [
            "[[ 1  2  3]\n",
            " [ 2  3  3]\n",
            " [ 3  4 -2]]\n",
            "\n",
            "[[-3.6  3.2 -0.6]\n",
            " [ 2.6 -2.2  0.6]\n",
            " [-0.2  0.4 -0.2]]\n"
          ]
        }
      ]
    },
    {
      "cell_type": "code",
      "metadata": {
        "colab": {
          "base_uri": "https://localhost:8080/"
        },
        "id": "ABCaaWgUBBiC",
        "outputId": "1d14ccb9-a09a-4de1-c9f5-82eb7111406b"
      },
      "source": [
        "#Question 5. What is the determinant of the given matrix in Question 4? Show your solution by python coding. (20 points)\n",
        "\n",
        "C = np.array([[1,2,3],[2,3,3],[3,4,-2]])\n",
        "\n",
        "print(C) #Matrix C\n",
        "print(\"\")\n",
        "\n",
        "det_C = np.linalg.det(C)\n",
        "\n",
        "print(det_C) #Matrix C's determinant\n",
        "\n",
        "print(\"\")\n",
        "\n",
        "print(round(np.linalg.det(C))) #Determinant rounded \n"
      ],
      "execution_count": 23,
      "outputs": [
        {
          "output_type": "stream",
          "name": "stdout",
          "text": [
            "[[ 1  2  3]\n",
            " [ 2  3  3]\n",
            " [ 3  4 -2]]\n",
            "\n",
            "5.000000000000001\n",
            "\n",
            "5\n"
          ]
        }
      ]
    },
    {
      "cell_type": "code",
      "metadata": {
        "colab": {
          "base_uri": "https://localhost:8080/"
        },
        "id": "IRNXeTDICwGy",
        "outputId": "6dd43f74-93a9-417a-d993-79a961e64a2c"
      },
      "source": [
        "#Question 6. Find the roots of the linear equations by showing its python codes (30 points)\n",
        "\n",
        "D = np.array([[5,4,1,3.4],[10,9,4,8.8],[10,13,15,19.2]]) #Given Matrix\n",
        "print(D)\n",
        "\n",
        "print(\"\")\n",
        "\n",
        "sqrt_D = np.sqrt(D)  #Roots of matrix D\n",
        "print(sqrt_D) "
      ],
      "execution_count": 33,
      "outputs": [
        {
          "output_type": "stream",
          "name": "stdout",
          "text": [
            "[[ 5.   4.   1.   3.4]\n",
            " [10.   9.   4.   8.8]\n",
            " [10.  13.  15.  19.2]]\n",
            "\n",
            "[[2.23606798 2.         1.         1.84390889]\n",
            " [3.16227766 3.         2.         2.96647939]\n",
            " [3.16227766 3.60555128 3.87298335 4.38178046]]\n"
          ]
        }
      ]
    }
  ]
}