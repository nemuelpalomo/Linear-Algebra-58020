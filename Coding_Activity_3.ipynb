{
  "nbformat": 4,
  "nbformat_minor": 0,
  "metadata": {
    "colab": {
      "name": "Coding-Activity-3.ipynb",
      "provenance": [],
      "collapsed_sections": [],
      "authorship_tag": "ABX9TyOcoQwWFAYhitVwc/U/2FZP",
      "include_colab_link": true
    },
    "kernelspec": {
      "name": "python3",
      "display_name": "Python 3"
    },
    "language_info": {
      "name": "python"
    }
  },
  "cells": [
    {
      "cell_type": "markdown",
      "metadata": {
        "id": "view-in-github",
        "colab_type": "text"
      },
      "source": [
        "<a href=\"https://colab.research.google.com/github/nemuelpalomo/Linear-Algebra-58020/blob/main/Coding_Activity_3.ipynb\" target=\"_parent\"><img src=\"https://colab.research.google.com/assets/colab-badge.svg\" alt=\"Open In Colab\"/></a>"
      ]
    },
    {
      "cell_type": "markdown",
      "metadata": {
        "id": "zuyhlq8Dfbre"
      },
      "source": [
        "#Matrix Algebra"
      ]
    },
    {
      "cell_type": "code",
      "metadata": {
        "colab": {
          "base_uri": "https://localhost:8080/"
        },
        "id": "OJbQ3CFvdO_1",
        "outputId": "0d31474f-beaa-4e03-b17d-6ad112903e20"
      },
      "source": [
        "import numpy as np\n",
        "\n",
        "X = np.array([[1, 2], [4, 7]])\n",
        "\n",
        "inverse1 = (np.linalg.inv(X))\n",
        "\n",
        "print(inverse1)"
      ],
      "execution_count": 18,
      "outputs": [
        {
          "output_type": "stream",
          "name": "stdout",
          "text": [
            "[[-7.  2.]\n",
            " [ 4. -1.]]\n"
          ]
        }
      ]
    },
    {
      "cell_type": "code",
      "metadata": {
        "colab": {
          "base_uri": "https://localhost:8080/"
        },
        "id": "KXYJ_cCqgWTA",
        "outputId": "f595ddfd-0020-4821-80c8-bcb274c442e4"
      },
      "source": [
        "A = np.dot(X, inverse1)\n",
        "\n",
        "print(A)"
      ],
      "execution_count": 19,
      "outputs": [
        {
          "output_type": "stream",
          "name": "stdout",
          "text": [
            "[[1. 0.]\n",
            " [0. 1.]]\n"
          ]
        }
      ]
    },
    {
      "cell_type": "markdown",
      "metadata": {
        "id": "lN0VBs7ihPTr"
      },
      "source": [
        "#Inverse of a 3x3 Matrix\n"
      ]
    },
    {
      "cell_type": "code",
      "metadata": {
        "colab": {
          "base_uri": "https://localhost:8080/"
        },
        "id": "iQQ4oemthV7-",
        "outputId": "d9532a50-87a9-4230-ef01-90ba9f4a2d45"
      },
      "source": [
        "matrix = np.array([[5,2,1], [3,2,7], [4,6,1]])\n",
        "\n",
        "inversed3 = np.linalg.inv(matrix)\n",
        "\n",
        "print(inversed3)"
      ],
      "execution_count": 20,
      "outputs": [
        {
          "output_type": "stream",
          "name": "stdout",
          "text": [
            "[[ 0.28571429 -0.02857143 -0.08571429]\n",
            " [-0.17857143 -0.00714286  0.22857143]\n",
            " [-0.07142857  0.15714286 -0.02857143]]\n"
          ]
        }
      ]
    },
    {
      "cell_type": "markdown",
      "metadata": {
        "id": "hO71F35qh3p-"
      },
      "source": [
        "#Transpose of the 3x3 Matrix"
      ]
    },
    {
      "cell_type": "code",
      "metadata": {
        "colab": {
          "base_uri": "https://localhost:8080/"
        },
        "id": "8nYJx1Ndh5RH",
        "outputId": "ac9fc6d6-8bed-4188-b56d-422e7a838805"
      },
      "source": [
        "transpose1 = np.transpose(matrix)\n",
        "print(transpose1)"
      ],
      "execution_count": 22,
      "outputs": [
        {
          "output_type": "stream",
          "name": "stdout",
          "text": [
            "[[5 3 4]\n",
            " [2 2 6]\n",
            " [1 7 1]]\n"
          ]
        }
      ]
    },
    {
      "cell_type": "markdown",
      "metadata": {
        "id": "lz4dW2iKiOlS"
      },
      "source": [
        "#Inverse of a 4x4 Matrix"
      ]
    },
    {
      "cell_type": "code",
      "metadata": {
        "colab": {
          "base_uri": "https://localhost:8080/"
        },
        "id": "cmYJSQG8iTDK",
        "outputId": "977e76a4-07c0-4ff5-aa15-858308cccadb"
      },
      "source": [
        "matrix1 = np.array([[6,5,1,2],[5,1,7,2],[7,2,5,1],[8,5,9,1]])\n",
        "print(matrix1)"
      ],
      "execution_count": 23,
      "outputs": [
        {
          "output_type": "stream",
          "name": "stdout",
          "text": [
            "[[6 5 1 2]\n",
            " [5 1 7 2]\n",
            " [7 2 5 1]\n",
            " [8 5 9 1]]\n"
          ]
        }
      ]
    },
    {
      "cell_type": "code",
      "metadata": {
        "colab": {
          "base_uri": "https://localhost:8080/"
        },
        "id": "Cr3rc062iqjF",
        "outputId": "3d1141f1-23a9-4279-cd6e-70074c176fa8"
      },
      "source": [
        "inversed = np.linalg.inv(matrix1)\n",
        "print(inversed)"
      ],
      "execution_count": 24,
      "outputs": [
        {
          "output_type": "stream",
          "name": "stdout",
          "text": [
            "[[-0.01098901 -0.11355311  0.35897436 -0.10989011]\n",
            " [ 0.12087912 -0.08424908 -0.28205128  0.20879121]\n",
            " [-0.08791209  0.09157509 -0.12820513  0.12087912]\n",
            " [ 0.27472527  0.50549451 -0.30769231 -0.25274725]]\n"
          ]
        }
      ]
    },
    {
      "cell_type": "markdown",
      "metadata": {
        "id": "p2m9DtS7izqL"
      },
      "source": [
        "#Transpose of the 4x4 Matrix"
      ]
    },
    {
      "cell_type": "code",
      "metadata": {
        "colab": {
          "base_uri": "https://localhost:8080/"
        },
        "id": "tfu41UsnizBT",
        "outputId": "90a9030f-8549-4aae-e460-af0eb38152e4"
      },
      "source": [
        "transpose2 = np.transpose(matrix1)\n",
        "print(transpose2)"
      ],
      "execution_count": 25,
      "outputs": [
        {
          "output_type": "stream",
          "name": "stdout",
          "text": [
            "[[6 5 7 8]\n",
            " [5 1 2 5]\n",
            " [1 7 5 9]\n",
            " [2 2 1 1]]\n"
          ]
        }
      ]
    }
  ]
}